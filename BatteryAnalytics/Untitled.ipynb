{
 "cells": [
  {
   "cell_type": "code",
   "execution_count": 2,
   "id": "9b9b818a",
   "metadata": {},
   "outputs": [
    {
     "ename": "PermissionError",
     "evalue": "[Errno 13] Permission denied",
     "output_type": "error",
     "traceback": [
      "\u001b[1;31m---------------------------------------------------------------------------\u001b[0m",
      "\u001b[1;31mPermissionError\u001b[0m                           Traceback (most recent call last)",
      "Cell \u001b[1;32mIn[2], line 59\u001b[0m\n\u001b[0;32m     56\u001b[0m output_file \u001b[38;5;241m=\u001b[39m \u001b[38;5;124m'\u001b[39m\u001b[38;5;124m../BatteryAnalytics/Inputdata/MeasurementData/CombinedData.csv\u001b[39m\u001b[38;5;124m'\u001b[39m\n\u001b[0;32m     58\u001b[0m \u001b[38;5;66;03m# Combine the CSV files\u001b[39;00m\n\u001b[1;32m---> 59\u001b[0m combined_df \u001b[38;5;241m=\u001b[39m combine_csvs(input_directory, output_file)\n\u001b[0;32m     61\u001b[0m \u001b[38;5;66;03m# Display the combined DataFrame\u001b[39;00m\n\u001b[0;32m     62\u001b[0m \u001b[38;5;28mprint\u001b[39m(\u001b[38;5;124m\"\u001b[39m\u001b[38;5;124mCombined DataFrame:\u001b[39m\u001b[38;5;124m\"\u001b[39m)\n",
      "Cell \u001b[1;32mIn[2], line 33\u001b[0m, in \u001b[0;36mcombine_csvs\u001b[1;34m(input_directory, output_file)\u001b[0m\n\u001b[0;32m     30\u001b[0m \u001b[38;5;28;01mfor\u001b[39;00m filename \u001b[38;5;129;01min\u001b[39;00m all_files:\n\u001b[0;32m     31\u001b[0m     \u001b[38;5;66;03m# Detect the encoding of each file\u001b[39;00m\n\u001b[0;32m     32\u001b[0m     \u001b[38;5;28;01mwith\u001b[39;00m \u001b[38;5;28mopen\u001b[39m(filename, \u001b[38;5;124m'\u001b[39m\u001b[38;5;124mrb\u001b[39m\u001b[38;5;124m'\u001b[39m) \u001b[38;5;28;01mas\u001b[39;00m file:\n\u001b[1;32m---> 33\u001b[0m         encoding \u001b[38;5;241m=\u001b[39m chardet\u001b[38;5;241m.\u001b[39mdetect(file\u001b[38;5;241m.\u001b[39mread())[\u001b[38;5;124m'\u001b[39m\u001b[38;5;124mencoding\u001b[39m\u001b[38;5;124m'\u001b[39m]\n\u001b[0;32m     35\u001b[0m     \u001b[38;5;66;03m# Read the CSV file\u001b[39;00m\n\u001b[0;32m     36\u001b[0m     \u001b[38;5;28;01mtry\u001b[39;00m:\n",
      "\u001b[1;31mPermissionError\u001b[0m: [Errno 13] Permission denied"
     ]
    }
   ],
   "source": [
    "# Combine CSV Files Script\n",
    "\n",
    "# Import necessary libraries\n",
    "import pandas as pd\n",
    "import glob\n",
    "import chardet\n",
    "\n",
    "# Function to combine CSV files\n",
    "def combine_csvs(input_directory, output_file=None):\n",
    "    \"\"\"\n",
    "    Combine all CSV datasets in the specified directory into a single DataFrame.\n",
    "    \n",
    "    Parameters:\n",
    "        input_directory (str): Directory containing CSV files to combine.\n",
    "        output_file (str): Optional. File path to save the combined DataFrame as a CSV.\n",
    "        \n",
    "    Returns:\n",
    "        pd.DataFrame: Combined DataFrame.\n",
    "    \"\"\"\n",
    "    # Get a list of all CSV files in the directory\n",
    "    all_files = glob.glob(f'{input_directory}/*.csv')\n",
    "    \n",
    "    if not all_files:\n",
    "        print(\"No CSV files found in the specified directory.\")\n",
    "        return pd.DataFrame()\n",
    "    \n",
    "    # List to store individual DataFrames for efficient concatenation\n",
    "    data_frames = []\n",
    "    \n",
    "    for filename in all_files:\n",
    "        # Detect the encoding of each file\n",
    "        with open(filename, 'rb') as file:\n",
    "            encoding = chardet.detect(file.read())['encoding']\n",
    "        \n",
    "        # Read the CSV file\n",
    "        try:\n",
    "            df_trip = pd.read_csv(filename, sep=';', encoding=encoding)\n",
    "            data_frames.append(df_trip)\n",
    "            print(f\"Loaded {filename} with shape {df_trip.shape}\")\n",
    "        except Exception as e:\n",
    "            print(f\"Error reading {filename}: {e}\")\n",
    "    \n",
    "    # Concatenate all DataFrames into one\n",
    "    df_master = pd.concat(data_frames, ignore_index=True)\n",
    "    \n",
    "    # Optionally save the combined DataFrame to a new CSV file\n",
    "    if output_file:\n",
    "        df_master.to_csv(output_file, index=False)\n",
    "        print(f\"Combined data saved to {output_file}\")\n",
    "    \n",
    "    return df_master\n",
    "\n",
    "# Example usage\n",
    "# Define your input directory and output file path\n",
    "input_directory = '../BatteryAnalytics/Inputdata/MeasurementData'\n",
    "output_file = '../BatteryAnalytics/Inputdata/MeasurementData/CombinedData.csv'\n",
    "\n",
    "# Combine the CSV files\n",
    "combined_df = combine_csvs(input_directory, output_file)\n",
    "\n",
    "# Display the combined DataFrame\n",
    "print(\"Combined DataFrame:\")\n",
    "combined_df.head()"
   ]
  },
  {
   "cell_type": "code",
   "execution_count": null,
   "id": "e73c3ad9",
   "metadata": {},
   "outputs": [],
   "source": []
  }
 ],
 "metadata": {
  "kernelspec": {
   "display_name": "Python 3 (ipykernel)",
   "language": "python",
   "name": "python3"
  },
  "language_info": {
   "codemirror_mode": {
    "name": "ipython",
    "version": 3
   },
   "file_extension": ".py",
   "mimetype": "text/x-python",
   "name": "python",
   "nbconvert_exporter": "python",
   "pygments_lexer": "ipython3",
   "version": "3.11.5"
  }
 },
 "nbformat": 4,
 "nbformat_minor": 5
}
